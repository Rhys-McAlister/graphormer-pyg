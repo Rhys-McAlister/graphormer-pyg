{
 "cells": [
  {
   "cell_type": "code",
   "execution_count": 27,
   "id": "7cd73ca8-afd1-41ca-943e-a3598a4a9549",
   "metadata": {},
   "outputs": [],
   "source": [
    "import torch\n",
    "import pandas as pd\n",
    "from torch_geometric.datasets import MoleculeNet\n",
    "from torch_geometric.loader import DataLoader\n",
    "from torch_geometric.data import Data\n",
    "from torch.utils.data import Subset\n",
    "from torch_geometric.utils.convert import to_networkx\n",
    "from networkx import all_pairs_shortest_path\n",
    "import numpy as np\n",
    "from torch_geometric.utils.smiles import from_smiles"
   ]
  },
  {
   "cell_type": "code",
   "execution_count": 28,
   "metadata": {},
   "outputs": [],
   "source": [
    "path = \"/Users/rhysmcalister/Documents/GitHub/pyg_chemprop/data/CHNOPS2743-HARMONIC-processed-scaled.csv\"\n",
    "df = pd.read_csv(path)\n",
    "\n"
   ]
  },
  {
   "cell_type": "code",
   "execution_count": 32,
   "metadata": {},
   "outputs": [
    {
     "data": {
      "text/plain": [
       "400     6.508367e-04\n",
       "402     8.458295e-04\n",
       "404     7.231641e-04\n",
       "406     5.875207e-04\n",
       "408     6.762332e-04\n",
       "            ...     \n",
       "3992    1.024499e-08\n",
       "3994    8.325449e-09\n",
       "3996    1.259408e-08\n",
       "3998    1.129142e-08\n",
       "4000    1.941509e-08\n",
       "Name: 0, Length: 1801, dtype: float64"
      ]
     },
     "execution_count": 32,
     "metadata": {},
     "output_type": "execute_result"
    }
   ],
   "source": [
    "df[labels].iloc[0]"
   ]
  },
  {
   "cell_type": "code",
   "execution_count": 90,
   "metadata": {},
   "outputs": [],
   "source": [
    "input_data = from_smiles(df['SMILES'][0])\n",
    "input_data\n",
    "labels = np.arange(400,4002,2).astype(str)\n",
    "dataset = []\n",
    "\n",
    "for i in range(len(df)):\n",
    "    input_data = from_smiles(df['SMILES'][i])\n",
    "\n",
    "    dataset.append(input_data)\n",
    "\n",
    "\n",
    "for x in dataset:\n",
    "    x.y = torch.tensor([df[labels].iloc[i].values])\n",
    "    x.x = x.x.to(torch.float32)\n",
    "    x.edge_index = x.edge_index.to(torch.float32) \n",
    "    x.edge_attr = x.edge_attr.to(torch.float32)\n",
    "# create a DataLoader\n",
    "loader = DataLoader(dataset, batch_size=32, shuffle=True)\n",
    "\n"
   ]
  },
  {
   "cell_type": "code",
   "execution_count": 94,
   "id": "9dcd5b5d-54ac-4ffe-903e-c788b55cbec7",
   "metadata": {},
   "outputs": [],
   "source": [
    "from torch import nn\n",
    "import torch_geometric.nn as tgnn\n",
    "from graphormer.model import Graphormer\n",
    "\n",
    "\n",
    "model = Graphormer(\n",
    "    num_layers=3,\n",
    "    input_node_dim=input_data.num_node_features,\n",
    "    node_dim=128,\n",
    "    input_edge_dim=input_data.num_edge_features,\n",
    "    edge_dim=128,\n",
    "    output_dim=1801,\n",
    "    n_heads=4,\n",
    "    max_in_degree=5,\n",
    "    max_out_degree=5,\n",
    "    max_path_distance=5,\n",
    ")"
   ]
  },
  {
   "cell_type": "code",
   "execution_count": 95,
   "metadata": {},
   "outputs": [
    {
     "data": {
      "text/plain": [
       "Graphormer(\n",
       "  (node_in_lin): Linear(in_features=9, out_features=128, bias=True)\n",
       "  (edge_in_lin): Linear(in_features=3, out_features=128, bias=True)\n",
       "  (centrality_encoding): CentralityEncoding()\n",
       "  (spatial_encoding): SpatialEncoding()\n",
       "  (layers): ModuleList(\n",
       "    (0-2): 3 x GraphormerEncoderLayer(\n",
       "      (attention): GraphormerMultiHeadAttention(\n",
       "        (heads): ModuleList(\n",
       "          (0-3): 4 x GraphormerAttentionHead(\n",
       "            (edge_encoding): EdgeEncoding()\n",
       "            (q): Linear(in_features=128, out_features=128, bias=True)\n",
       "            (k): Linear(in_features=128, out_features=128, bias=True)\n",
       "            (v): Linear(in_features=128, out_features=128, bias=True)\n",
       "          )\n",
       "        )\n",
       "        (linear): Linear(in_features=512, out_features=128, bias=True)\n",
       "      )\n",
       "      (ln_1): LayerNorm((128,), eps=1e-05, elementwise_affine=True)\n",
       "      (ln_2): LayerNorm((128,), eps=1e-05, elementwise_affine=True)\n",
       "      (ff): Linear(in_features=128, out_features=128, bias=True)\n",
       "    )\n",
       "  )\n",
       "  (node_out_lin): Linear(in_features=128, out_features=1801, bias=True)\n",
       ")"
      ]
     },
     "execution_count": 95,
     "metadata": {},
     "output_type": "execute_result"
    }
   ],
   "source": [
    "model"
   ]
  },
  {
   "cell_type": "code",
   "execution_count": 96,
   "id": "cb0b624d-7d7d-423c-acf2-5c1e0d033917",
   "metadata": {},
   "outputs": [],
   "source": [
    "from sklearn.model_selection import train_test_split\n",
    "\n",
    "test_ids, train_ids = train_test_split([i for i in range(len(dataset))], test_size=0.8, random_state=42)\n",
    "train_loader = DataLoader(Subset(dataset, train_ids), batch_size=64)\n",
    "test_loader = DataLoader(Subset(dataset, test_ids), batch_size=64)"
   ]
  },
  {
   "cell_type": "code",
   "execution_count": 98,
   "id": "af514e6d-cfd9-46b0-8725-45b422f9db83",
   "metadata": {},
   "outputs": [],
   "source": [
    "optimizer = torch.optim.AdamW(model.parameters(), lr=3e-4)\n",
    "# loss_functin = nn.L1Loss(reduction=\"sum\")\n",
    "# loss_functin = nn.MSELoss(reduction=\"sum\")"
   ]
  },
  {
   "cell_type": "code",
   "execution_count": 99,
   "id": "37f42e66-2ca7-457d-9218-080bd1400ab0",
   "metadata": {},
   "outputs": [
    {
     "name": "stderr",
     "output_type": "stream",
     "text": [
      "  0%|          | 0/35 [00:01<?, ?it/s]\n"
     ]
    },
    {
     "ename": "RuntimeError",
     "evalue": "Found dtype Double but expected Float",
     "output_type": "error",
     "traceback": [
      "\u001b[0;31m---------------------------------------------------------------------------\u001b[0m",
      "\u001b[0;31mRuntimeError\u001b[0m                              Traceback (most recent call last)",
      "\u001b[1;32m/Users/rhysmcalister/Documents/GitHub/graphormer-pyg/testing.ipynb Cell 12\u001b[0m line \u001b[0;36m1\n\u001b[1;32m     <a href='vscode-notebook-cell:/Users/rhysmcalister/Documents/GitHub/graphormer-pyg/testing.ipynb#W6sZmlsZQ%3D%3D?line=15'>16</a>\u001b[0m loss \u001b[39m=\u001b[39m loss_functin(output, y)\n\u001b[1;32m     <a href='vscode-notebook-cell:/Users/rhysmcalister/Documents/GitHub/graphormer-pyg/testing.ipynb#W6sZmlsZQ%3D%3D?line=16'>17</a>\u001b[0m batch_loss \u001b[39m+\u001b[39m\u001b[39m=\u001b[39m loss\u001b[39m.\u001b[39mitem()\n\u001b[0;32m---> <a href='vscode-notebook-cell:/Users/rhysmcalister/Documents/GitHub/graphormer-pyg/testing.ipynb#W6sZmlsZQ%3D%3D?line=17'>18</a>\u001b[0m loss\u001b[39m.\u001b[39;49mbackward()\n\u001b[1;32m     <a href='vscode-notebook-cell:/Users/rhysmcalister/Documents/GitHub/graphormer-pyg/testing.ipynb#W6sZmlsZQ%3D%3D?line=18'>19</a>\u001b[0m torch\u001b[39m.\u001b[39mnn\u001b[39m.\u001b[39mutils\u001b[39m.\u001b[39mclip_grad_norm_(model\u001b[39m.\u001b[39mparameters(), \u001b[39m1.0\u001b[39m)\n\u001b[1;32m     <a href='vscode-notebook-cell:/Users/rhysmcalister/Documents/GitHub/graphormer-pyg/testing.ipynb#W6sZmlsZQ%3D%3D?line=19'>20</a>\u001b[0m optimizer\u001b[39m.\u001b[39mstep()\n",
      "File \u001b[0;32m~/Documents/GitHub/pyg_chemprop/.conda/lib/python3.11/site-packages/torch/_tensor.py:522\u001b[0m, in \u001b[0;36mTensor.backward\u001b[0;34m(self, gradient, retain_graph, create_graph, inputs)\u001b[0m\n\u001b[1;32m    512\u001b[0m \u001b[39mif\u001b[39;00m has_torch_function_unary(\u001b[39mself\u001b[39m):\n\u001b[1;32m    513\u001b[0m     \u001b[39mreturn\u001b[39;00m handle_torch_function(\n\u001b[1;32m    514\u001b[0m         Tensor\u001b[39m.\u001b[39mbackward,\n\u001b[1;32m    515\u001b[0m         (\u001b[39mself\u001b[39m,),\n\u001b[0;32m   (...)\u001b[0m\n\u001b[1;32m    520\u001b[0m         inputs\u001b[39m=\u001b[39minputs,\n\u001b[1;32m    521\u001b[0m     )\n\u001b[0;32m--> 522\u001b[0m torch\u001b[39m.\u001b[39;49mautograd\u001b[39m.\u001b[39;49mbackward(\n\u001b[1;32m    523\u001b[0m     \u001b[39mself\u001b[39;49m, gradient, retain_graph, create_graph, inputs\u001b[39m=\u001b[39;49minputs\n\u001b[1;32m    524\u001b[0m )\n",
      "File \u001b[0;32m~/Documents/GitHub/pyg_chemprop/.conda/lib/python3.11/site-packages/torch/autograd/__init__.py:266\u001b[0m, in \u001b[0;36mbackward\u001b[0;34m(tensors, grad_tensors, retain_graph, create_graph, grad_variables, inputs)\u001b[0m\n\u001b[1;32m    261\u001b[0m     retain_graph \u001b[39m=\u001b[39m create_graph\n\u001b[1;32m    263\u001b[0m \u001b[39m# The reason we repeat the same comment below is that\u001b[39;00m\n\u001b[1;32m    264\u001b[0m \u001b[39m# some Python versions print out the first line of a multi-line function\u001b[39;00m\n\u001b[1;32m    265\u001b[0m \u001b[39m# calls in the traceback and some print out the last line\u001b[39;00m\n\u001b[0;32m--> 266\u001b[0m Variable\u001b[39m.\u001b[39;49m_execution_engine\u001b[39m.\u001b[39;49mrun_backward(  \u001b[39m# Calls into the C++ engine to run the backward pass\u001b[39;49;00m\n\u001b[1;32m    267\u001b[0m     tensors,\n\u001b[1;32m    268\u001b[0m     grad_tensors_,\n\u001b[1;32m    269\u001b[0m     retain_graph,\n\u001b[1;32m    270\u001b[0m     create_graph,\n\u001b[1;32m    271\u001b[0m     inputs,\n\u001b[1;32m    272\u001b[0m     allow_unreachable\u001b[39m=\u001b[39;49m\u001b[39mTrue\u001b[39;49;00m,\n\u001b[1;32m    273\u001b[0m     accumulate_grad\u001b[39m=\u001b[39;49m\u001b[39mTrue\u001b[39;49;00m,\n\u001b[1;32m    274\u001b[0m )\n",
      "\u001b[0;31mRuntimeError\u001b[0m: Found dtype Double but expected Float"
     ]
    }
   ],
   "source": [
    "from tqdm import tqdm\n",
    "from torch_geometric.nn.pool import global_mean_pool\n",
    "\n",
    "# DEVICE = \"cuda\"\n",
    "DEVICE = \"cpu\"\n",
    "\n",
    "model.to(DEVICE)\n",
    "for epoch in range(3):\n",
    "    model.train()\n",
    "    batch_loss = 0.0\n",
    "    for batch in tqdm(train_loader):\n",
    "        batch.to(DEVICE)\n",
    "        y = batch.y\n",
    "        optimizer.zero_grad()\n",
    "        output = global_mean_pool(model(batch), batch.batch)\n",
    "        loss = loss_functin(output, y)\n",
    "        batch_loss += loss.item()\n",
    "        loss.backward()\n",
    "        torch.nn.utils.clip_grad_norm_(model.parameters(), 1.0)\n",
    "        optimizer.step()\n",
    "    print(\"TRAIN_LOSS\", batch_loss / len(train_ids))\n",
    "\n",
    "    model.eval()\n",
    "    batch_loss = 0.0\n",
    "    for batch in tqdm(test_loader):\n",
    "        batch.to(DEVICE)\n",
    "        y = batch.y\n",
    "        with torch.no_grad():\n",
    "            output = global_mean_pool(model(batch), batch.batch)\n",
    "            loss = loss_functin(output, y)\n",
    "            \n",
    "        batch_loss += loss.item()\n",
    "\n",
    "    print(\"EVAL LOSS\", batch_loss / len(test_ids))\n",
    "\n",
    "    "
   ]
  },
  {
   "cell_type": "code",
   "execution_count": null,
   "id": "06efd4f9-cc83-42e4-be58-34815323b728",
   "metadata": {},
   "outputs": [],
   "source": []
  }
 ],
 "metadata": {
  "kernelspec": {
   "display_name": "Python 3 (ipykernel)",
   "language": "python",
   "name": "python3"
  },
  "language_info": {
   "codemirror_mode": {
    "name": "ipython",
    "version": 3
   },
   "file_extension": ".py",
   "mimetype": "text/x-python",
   "name": "python",
   "nbconvert_exporter": "python",
   "pygments_lexer": "ipython3",
   "version": "3.11.7"
  }
 },
 "nbformat": 4,
 "nbformat_minor": 5
}
