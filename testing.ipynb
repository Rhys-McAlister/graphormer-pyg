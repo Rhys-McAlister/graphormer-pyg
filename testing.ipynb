{
 "cells": [
  {
   "cell_type": "code",
   "execution_count": 2,
   "id": "7cd73ca8-afd1-41ca-943e-a3598a4a9549",
   "metadata": {},
   "outputs": [
    {
     "name": "stderr",
     "output_type": "stream",
     "text": [
      "/Users/user/PycharmProjects/graphormer-pyg/venv/lib/python3.9/site-packages/tqdm/auto.py:21: TqdmWarning: IProgress not found. Please update jupyter and ipywidgets. See https://ipywidgets.readthedocs.io/en/stable/user_install.html\n",
      "  from .autonotebook import tqdm as notebook_tqdm\n"
     ]
    }
   ],
   "source": [
    "import torch\n",
    "from torch_geometric.datasets import MoleculeNet\n",
    "from torch_geometric.loader import DataLoader\n",
    "from torch_geometric.data import Data\n",
    "from torch.utils.data import Subset\n",
    "from torch_geometric.utils.convert import to_networkx\n",
    "from networkx import all_pairs_shortest_path"
   ]
  },
  {
   "cell_type": "code",
   "execution_count": 2,
   "id": "c4c26cb6-f12b-43ea-9482-455cbb4e42d2",
   "metadata": {},
   "outputs": [
    {
     "name": "stdout",
     "output_type": "stream",
     "text": [
      "Requirement already satisfied: rdkit in ./venv/lib/python3.9/site-packages (2023.3.1)\n",
      "Requirement already satisfied: numpy in ./venv/lib/python3.9/site-packages (from rdkit) (1.24.3)\n",
      "Requirement already satisfied: Pillow in ./venv/lib/python3.9/site-packages (from rdkit) (9.5.0)\n"
     ]
    }
   ],
   "source": [
    "!pip install rdkit"
   ]
  },
  {
   "cell_type": "code",
   "execution_count": 3,
   "id": "1d360dec-8745-4fee-adcf-4aeb6c35be95",
   "metadata": {},
   "outputs": [
    {
     "data": {
      "text/plain": [
       "ESOL(1128)"
      ]
     },
     "execution_count": 3,
     "metadata": {},
     "output_type": "execute_result"
    }
   ],
   "source": [
    "dataset = MoleculeNet(root=\"./\", name=\"ESOL\")\n",
    "dataset"
   ]
  },
  {
   "cell_type": "code",
   "execution_count": 4,
   "id": "9dcd5b5d-54ac-4ffe-903e-c788b55cbec7",
   "metadata": {},
   "outputs": [],
   "source": [
    "from torch import nn\n",
    "import torch_geometric.nn as tgnn\n",
    "from graphormer.model import Graphormer\n",
    "\n",
    "\n",
    "model = Graphormer(\n",
    "    num_layers=3,\n",
    "    input_node_dim=dataset.num_node_features,\n",
    "    node_dim=128,\n",
    "    input_edge_dim=dataset.num_edge_features,\n",
    "    edge_dim=128,\n",
    "    output_dim=dataset[0].y.shape[1],\n",
    "    n_heads=4,\n",
    "    max_in_degree=5,\n",
    "    max_out_degree=5,\n",
    "    max_path_distance=5,\n",
    ")"
   ]
  },
  {
   "cell_type": "code",
   "execution_count": 5,
   "id": "cb0b624d-7d7d-423c-acf2-5c1e0d033917",
   "metadata": {},
   "outputs": [],
   "source": [
    "from sklearn.model_selection import train_test_split\n",
    "\n",
    "test_ids, train_ids = train_test_split([i for i in range(len(dataset))], test_size=0.8, random_state=42)\n",
    "train_loader = DataLoader(Subset(dataset, train_ids), batch_size=64, shuffle=False)\n",
    "test_loader = DataLoader(Subset(dataset, test_ids), batch_size=64, shuffle=False)"
   ]
  },
  {
   "cell_type": "code",
   "execution_count": 6,
   "id": "af514e6d-cfd9-46b0-8725-45b422f9db83",
   "metadata": {},
   "outputs": [],
   "source": [
    "optimizer = torch.optim.AdamW(model.parameters(), lr=3e-4)\n",
    "loss_functin = nn.L1Loss(reduction=\"sum\")"
   ]
  },
  {
   "cell_type": "code",
   "execution_count": null,
   "id": "37f42e66-2ca7-457d-9218-080bd1400ab0",
   "metadata": {},
   "outputs": [
    {
     "name": "stderr",
     "output_type": "stream",
     "text": [
      "  0%|                                                                                                                                                | 0/15 [00:00<?, ?it/s]"
     ]
    }
   ],
   "source": [
    "from tqdm import tqdm\n",
    "from torch_geometric.nn.pool import global_mean_pool\n",
    "\n",
    "DEVICE = \"cpu\"\n",
    "\n",
    "model.to(DEVICE)\n",
    "for epoch in range(10):\n",
    "    model.train()\n",
    "    batch_loss = 0.0\n",
    "    for batch in tqdm(train_loader):\n",
    "        batch.to(DEVICE)\n",
    "        y = batch.y\n",
    "        optimizer.zero_grad()\n",
    "        output = global_mean_pool(model(batch), batch.batch)\n",
    "        loss = loss_functin(output, y)\n",
    "        batch_loss += loss.item()\n",
    "        loss.backward()\n",
    "        torch.nn.utils.clip_grad_norm_(model.parameters(), 1.0)\n",
    "        optimizer.step()\n",
    "    print(\"TRAIN_LOSS\", batch_loss / len(train_ids))\n",
    "\n",
    "    model.eval()\n",
    "    batch_loss = 0.0\n",
    "    for batch in tqdm(test_loader):\n",
    "        batch.to(DEVICE)\n",
    "        y = batch.y\n",
    "        with torch.no_grad():\n",
    "            output = global_mean_pool(model(batch), batch.batch)\n",
    "            loss = loss_functin(output, y)\n",
    "            \n",
    "        batch_loss += loss.item()\n",
    "\n",
    "    print(\"EVAL LOSS\", batch_loss / len(test_ids))\n"
   ]
  },
  {
   "cell_type": "markdown",
   "id": "8214f84c-c89e-4c3e-8011-0b4ec7437e69",
   "metadata": {},
   "source": [
    "new version 15 epochs: train 15:33 eval inference 00:13\n",
    "old version 15 epochs: train 14:33 eval inference 00:13\n",
    "new_1 version 15 epochs: train 15:24 eval inference 00:13\n",
    "torch.degree version 15 epochs: train 15:08 eval inference 00:13"
   ]
  },
  {
   "cell_type": "code",
   "execution_count": 4,
   "id": "170a8f2a-630d-4029-bd08-62b51fcea8fb",
   "metadata": {},
   "outputs": [
    {
     "data": {
      "text/plain": [
       "tensor([[  8.6705,  11.7491,   1.5928,  ...,   9.9827,   0.3962,  -4.8716],\n",
       "        [  5.0475,  -0.7071,   3.1063,  ..., -16.8568,   0.6816,  -4.5517],\n",
       "        [ -5.1184,  -0.6247,  -0.8803,  ...,   6.2039,  -6.5872,  -0.8567],\n",
       "        ...,\n",
       "        [  3.4272,  10.8034,   1.1754,  ...,  11.9679,  -1.4390,  -4.1685],\n",
       "        [ -4.2619,  -9.7124,  -2.3889,  ...,   6.1664,  -0.9408,   1.7503],\n",
       "        [  1.1239,   0.2552,  -5.8109,  ...,  -2.3696,  -2.5762,  -2.1762]])"
      ]
     },
     "execution_count": 4,
     "metadata": {},
     "output_type": "execute_result"
    }
   ],
   "source": [
    "a = torch.randn((50, 50, 10, 3))\n",
    "b = torch.randn((10, 3))\n",
    "(a * b).sum(dim=-1).sum(dim=-1)"
   ]
  }
 ],
 "metadata": {
  "kernelspec": {
   "display_name": "Python 3 (ipykernel)",
   "language": "python",
   "name": "python3"
  },
  "language_info": {
   "codemirror_mode": {
    "name": "ipython",
    "version": 3
   },
   "file_extension": ".py",
   "mimetype": "text/x-python",
   "name": "python",
   "nbconvert_exporter": "python",
   "pygments_lexer": "ipython3",
   "version": "3.9.11"
  }
 },
 "nbformat": 4,
 "nbformat_minor": 5
}
